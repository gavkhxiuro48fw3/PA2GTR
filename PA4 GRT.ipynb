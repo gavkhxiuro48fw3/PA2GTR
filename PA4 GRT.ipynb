{
 "cells": [
  {
   "cell_type": "markdown",
   "id": "ecc9d534",
   "metadata": {},
   "source": [
    "## Gavin Trumbull\n",
    "# assignment 3, eric matthes, 2nd edition, spring 2023\n",
    "# CS150"
   ]
  },
  {
   "cell_type": "code",
   "execution_count": 9,
   "id": "9dfe9cab",
   "metadata": {},
   "outputs": [
    {
     "data": {
      "text/plain": [
       "[2, 4, 6, 8, 10, 12]"
      ]
     },
     "execution_count": 9,
     "metadata": {},
     "output_type": "execute_result"
    }
   ],
   "source": [
    "numbers=[2,4,6,8,10,12]\n",
    "numbers"
   ]
  },
  {
   "cell_type": "markdown",
   "id": "5a1f4644",
   "metadata": {},
   "source": [
    "The append command adds an element to the end of a set"
   ]
  },
  {
   "cell_type": "code",
   "execution_count": 10,
   "id": "99a687e2",
   "metadata": {},
   "outputs": [
    {
     "data": {
      "text/plain": [
       "[2, 4, 6, 8, 10, 12, 14]"
      ]
     },
     "execution_count": 10,
     "metadata": {},
     "output_type": "execute_result"
    }
   ],
   "source": [
    "numbers.append(14)\n",
    "numbers"
   ]
  },
  {
   "cell_type": "markdown",
   "id": "0d1d0770",
   "metadata": {},
   "source": [
    "Insert puts an element into a set given the element and the index of the new element."
   ]
  },
  {
   "cell_type": "code",
   "execution_count": 11,
   "id": "eaa81dcf",
   "metadata": {},
   "outputs": [],
   "source": [
    "numbers.insert(1,3)"
   ]
  },
  {
   "cell_type": "markdown",
   "id": "7240f965",
   "metadata": {},
   "source": [
    "remove takes an element out of a set given the name of the element."
   ]
  },
  {
   "cell_type": "code",
   "execution_count": 12,
   "id": "8f086e15",
   "metadata": {},
   "outputs": [],
   "source": [
    "numbers.remove(4)"
   ]
  },
  {
   "cell_type": "markdown",
   "id": "59ced25e",
   "metadata": {},
   "source": [
    "count outputs the number of times an element appears in a set."
   ]
  },
  {
   "cell_type": "code",
   "execution_count": 19,
   "id": "a1701803",
   "metadata": {},
   "outputs": [
    {
     "data": {
      "text/plain": [
       "1"
      ]
     },
     "execution_count": 19,
     "metadata": {},
     "output_type": "execute_result"
    }
   ],
   "source": [
    "numbers.count(2)"
   ]
  },
  {
   "cell_type": "markdown",
   "id": "e2c330c1",
   "metadata": {},
   "source": [
    "index ouputs the index value of the first instance of an element appearing in a list."
   ]
  },
  {
   "cell_type": "code",
   "execution_count": 21,
   "id": "d628d30d",
   "metadata": {},
   "outputs": [
    {
     "data": {
      "text/plain": [
       "2"
      ]
     },
     "execution_count": 21,
     "metadata": {},
     "output_type": "execute_result"
    }
   ],
   "source": [
    "numbers.index(6)"
   ]
  },
  {
   "cell_type": "markdown",
   "id": "1169c1ac",
   "metadata": {},
   "source": [
    "pop removes an element from a set given its index. the poped element can be given a variable and used once poped"
   ]
  },
  {
   "cell_type": "code",
   "execution_count": null,
   "id": "294b1ca9",
   "metadata": {},
   "outputs": [],
   "source": [
    "number1=numbers.pop(1)"
   ]
  },
  {
   "cell_type": "markdown",
   "id": "eba78066",
   "metadata": {},
   "source": [
    "sorted temporarily puts the elements of a set in a particular order."
   ]
  },
  {
   "cell_type": "code",
   "execution_count": 23,
   "id": "2d6bda60",
   "metadata": {},
   "outputs": [
    {
     "data": {
      "text/plain": [
       "['e', 'f', 'h', 'i', 'j', 'n', 'o', 'r', 's', 'v']"
      ]
     },
     "execution_count": 23,
     "metadata": {},
     "output_type": "execute_result"
    }
   ],
   "source": [
    "letters2=('n','r','v','j','e','s','h','f','i','o')\n",
    "sorted(letters2)"
   ]
  },
  {
   "cell_type": "markdown",
   "id": "87e49da1",
   "metadata": {},
   "source": [
    "You can copy a list into another list by setting the new list equal to a slice of the old list containing all of the elements form the old list. This will create a new list containing the exact same elements as another list."
   ]
  },
  {
   "cell_type": "code",
   "execution_count": 15,
   "id": "daebb7c6",
   "metadata": {},
   "outputs": [
    {
     "name": "stdout",
     "output_type": "stream",
     "text": [
      "[1, 2, 3, 4, 5, 6, 7, 8]\n",
      "[1, 2, 3, 4, 5, 6, 7, 8]\n"
     ]
    }
   ],
   "source": [
    "list1=[1,2,3,4,5,6,7,8]\n",
    "list2=list1[:]\n",
    "print(list1)\n",
    "print(list2)"
   ]
  },
  {
   "cell_type": "markdown",
   "id": "d25f47e7",
   "metadata": {},
   "source": [
    "clear removes all the elements from a set."
   ]
  },
  {
   "cell_type": "code",
   "execution_count": 16,
   "id": "d33487e3",
   "metadata": {},
   "outputs": [
    {
     "name": "stdout",
     "output_type": "stream",
     "text": [
      "[]\n"
     ]
    }
   ],
   "source": [
    "list1.clear()\n",
    "print(list1)"
   ]
  },
  {
   "cell_type": "markdown",
   "id": "eb3dc134",
   "metadata": {},
   "source": [
    "list outputs a group of letters, numbers, or  as a colection of elements in a list."
   ]
  },
  {
   "cell_type": "code",
   "execution_count": 22,
   "id": "8b2827e5",
   "metadata": {},
   "outputs": [
    {
     "name": "stdout",
     "output_type": "stream",
     "text": [
      "['t', 'h', 'i', 's', ' ', 'i', 's', ' ', 'a', ' ', 's', 't', 'r', 'i', 'n', 'g']\n"
     ]
    }
   ],
   "source": [
    "string=\"this is a string\"\n",
    "string_list=list(string)\n",
    "print(string_list)"
   ]
  },
  {
   "cell_type": "markdown",
   "id": "5edc76cc",
   "metadata": {},
   "source": [
    "len outputs the number of charactors(including spaces) in a string or elements in a set."
   ]
  },
  {
   "cell_type": "code",
   "execution_count": 2,
   "id": "0ad5329e",
   "metadata": {},
   "outputs": [
    {
     "data": {
      "text/plain": [
       "11"
      ]
     },
     "execution_count": 2,
     "metadata": {},
     "output_type": "execute_result"
    }
   ],
   "source": [
    "factor=\"this string\"\n",
    "len(factor)"
   ]
  },
  {
   "cell_type": "markdown",
   "id": "0b81fddc",
   "metadata": {},
   "source": [
    "max outputs the element with the largest value from a set."
   ]
  },
  {
   "cell_type": "code",
   "execution_count": 7,
   "id": "72bc4196",
   "metadata": {},
   "outputs": [
    {
     "data": {
      "text/plain": [
       "7"
      ]
     },
     "execution_count": 7,
     "metadata": {},
     "output_type": "execute_result"
    }
   ],
   "source": [
    "newlist=(1,2,3,4,5,6,7)\n",
    "max(newlist)"
   ]
  },
  {
   "cell_type": "markdown",
   "id": "8ace5ba1",
   "metadata": {},
   "source": [
    "min outputs the element with the smallest value from a set."
   ]
  },
  {
   "cell_type": "code",
   "execution_count": 8,
   "id": "604abe24",
   "metadata": {},
   "outputs": [
    {
     "data": {
      "text/plain": [
       "1"
      ]
     },
     "execution_count": 8,
     "metadata": {},
     "output_type": "execute_result"
    }
   ],
   "source": [
    "min(newlist)"
   ]
  }
 ],
 "metadata": {
  "kernelspec": {
   "display_name": "Python 3 (ipykernel)",
   "language": "python",
   "name": "python3"
  },
  "language_info": {
   "codemirror_mode": {
    "name": "ipython",
    "version": 3
   },
   "file_extension": ".py",
   "mimetype": "text/x-python",
   "name": "python",
   "nbconvert_exporter": "python",
   "pygments_lexer": "ipython3",
   "version": "3.9.13"
  }
 },
 "nbformat": 4,
 "nbformat_minor": 5
}
